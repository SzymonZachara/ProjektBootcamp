{
 "cells": [
  {
   "cell_type": "markdown",
   "metadata": {},
   "source": [
    "# Projekt zaliczeniowy Bootcamp Data Science ING\n",
    "\n",
    "\n",
    "Temat 2: Przewidywanie wzięcia pożyczki. Celem projektu jest zastosowanie modeli klasyfikacji (binarnej) do przewidzenia czy pożyczka zostanie udzielona danemu klientowi z danymi parametrami wniosku."
   ]
  },
  {
   "cell_type": "markdown",
   "metadata": {},
   "source": [
    "# Importy bibliotek"
   ]
  },
  {
   "cell_type": "code",
   "execution_count": 1,
   "metadata": {},
   "outputs": [],
   "source": [
    "import numpy as np\n",
    "import pandas as pd\n",
    "import matplotlib.pyplot as plt\n",
    "from sklearn.model_selection import train_test_split\n",
    "from sklearn.metrics import roc_auc_score\n",
    "import matplotlib.pyplot as plt\n",
    "import seaborn as sns\n",
    "from sklearn.linear_model import LogisticRegression\n",
    "from sklearn.metrics import accuracy_score\n",
    "from sklearn.metrics import f1_score\n",
    "from sklearn.preprocessing import StandardScaler\n",
    "from sklearn.pipeline import Pipeline\n",
    "from sklearn.model_selection import GridSearchCV\n",
    "from sklearn.tree import DecisionTreeClassifier\n",
    "from sklearn.ensemble import RandomForestClassifier\n",
    "import warnings\n",
    "warnings.filterwarnings(\"ignore\")"
   ]
  },
  {
   "cell_type": "markdown",
   "metadata": {},
   "source": [
    "# Wczytanie danych"
   ]
  },
  {
   "cell_type": "code",
   "execution_count": 2,
   "metadata": {},
   "outputs": [
    {
     "data": {
      "text/plain": [
       "(87020, 25)"
      ]
     },
     "execution_count": 2,
     "metadata": {},
     "output_type": "execute_result"
    }
   ],
   "source": [
    "DATA = 'https://raw.githubusercontent.com/saimadhu-polamuri/DataHakthon3X/master/dataSet/Train.csv'\n",
    "dane = pd.read_csv(DATA, encoding = 'latin1', index_col = 'ID', parse_dates = ['Lead_Creation_Date', 'DOB'])\n",
    "dane.shape"
   ]
  },
  {
   "cell_type": "markdown",
   "metadata": {},
   "source": [
    "Zgodnie z poleceniem usuwam od razu zmienną LoggedIn"
   ]
  },
  {
   "cell_type": "code",
   "execution_count": 3,
   "metadata": {},
   "outputs": [
    {
     "data": {
      "text/plain": [
       "(87020, 24)"
      ]
     },
     "execution_count": 3,
     "metadata": {},
     "output_type": "execute_result"
    }
   ],
   "source": [
    "dane = dane.drop(columns = 'LoggedIn')\n",
    "dane.shape"
   ]
  },
  {
   "cell_type": "markdown",
   "metadata": {},
   "source": [
    "Patrzę na ogólne informacje o zbiorze"
   ]
  },
  {
   "cell_type": "code",
   "execution_count": 4,
   "metadata": {},
   "outputs": [
    {
     "name": "stdout",
     "output_type": "stream",
     "text": [
      "<class 'pandas.core.frame.DataFrame'>\n",
      "Index: 87020 entries, ID000002C20 to ID124821V10\n",
      "Data columns (total 24 columns):\n",
      " #   Column                 Non-Null Count  Dtype         \n",
      "---  ------                 --------------  -----         \n",
      " 0   Gender                 87020 non-null  object        \n",
      " 1   City                   86017 non-null  object        \n",
      " 2   Monthly_Income         87020 non-null  int64         \n",
      " 3   DOB                    87020 non-null  datetime64[ns]\n",
      " 4   Lead_Creation_Date     87020 non-null  datetime64[ns]\n",
      " 5   Loan_Amount_Applied    86949 non-null  float64       \n",
      " 6   Loan_Tenure_Applied    86949 non-null  float64       \n",
      " 7   Existing_EMI           86949 non-null  float64       \n",
      " 8   Employer_Name          86949 non-null  object        \n",
      " 9   Salary_Account         75256 non-null  object        \n",
      " 10  Mobile_Verified        87020 non-null  object        \n",
      " 11  Var5                   87020 non-null  int64         \n",
      " 12  Var1                   87020 non-null  object        \n",
      " 13  Loan_Amount_Submitted  52407 non-null  float64       \n",
      " 14  Loan_Tenure_Submitted  52407 non-null  float64       \n",
      " 15  Interest_Rate          27726 non-null  float64       \n",
      " 16  Processing_Fee         27420 non-null  float64       \n",
      " 17  EMI_Loan_Submitted     27726 non-null  float64       \n",
      " 18  Filled_Form            87020 non-null  object        \n",
      " 19  Device_Type            87020 non-null  object        \n",
      " 20  Var2                   87020 non-null  object        \n",
      " 21  Source                 87020 non-null  object        \n",
      " 22  Var4                   87020 non-null  int64         \n",
      " 23  Disbursed              87020 non-null  int64         \n",
      "dtypes: datetime64[ns](2), float64(8), int64(4), object(10)\n",
      "memory usage: 12.9+ MB\n"
     ]
    }
   ],
   "source": [
    "dane.info()"
   ]
  },
  {
   "cell_type": "markdown",
   "metadata": {},
   "source": [
    "# Podział na zbiór treningowy i testowy"
   ]
  },
  {
   "cell_type": "code",
   "execution_count": 5,
   "metadata": {},
   "outputs": [],
   "source": [
    "X, y = dane.drop(columns = 'Disbursed'), dane.Disbursed\n",
    "X_train, X_test , y_train, y_test = train_test_split(X,y,test_size=0.3)"
   ]
  },
  {
   "cell_type": "code",
   "execution_count": 6,
   "metadata": {},
   "outputs": [
    {
     "data": {
      "text/plain": [
       "(60914, 23)"
      ]
     },
     "execution_count": 6,
     "metadata": {},
     "output_type": "execute_result"
    }
   ],
   "source": [
    "X_train.shape"
   ]
  },
  {
   "cell_type": "code",
   "execution_count": 7,
   "metadata": {},
   "outputs": [
    {
     "data": {
      "text/plain": [
       "(26106, 23)"
      ]
     },
     "execution_count": 7,
     "metadata": {},
     "output_type": "execute_result"
    }
   ],
   "source": [
    "X_test.shape"
   ]
  },
  {
   "cell_type": "markdown",
   "metadata": {},
   "source": [
    "# Analiza zmiennych objaśniających\n",
    "\n",
    "Najpierw analizuję zmienne datowe, potem kategoryczne, a na końcu numeryczne"
   ]
  },
  {
   "cell_type": "markdown",
   "metadata": {},
   "source": [
    "## 1. Zmienne datowe"
   ]
  },
  {
   "cell_type": "code",
   "execution_count": 8,
   "metadata": {},
   "outputs": [
    {
     "data": {
      "text/plain": [
       "count                   60914\n",
       "unique                  10450\n",
       "top       1980-11-11 00:00:00\n",
       "freq                      218\n",
       "first     1970-01-01 00:00:00\n",
       "last      2069-12-31 00:00:00\n",
       "Name: DOB, dtype: object"
      ]
     },
     "execution_count": 8,
     "metadata": {},
     "output_type": "execute_result"
    }
   ],
   "source": [
    "X_train.DOB.describe()"
   ]
  },
  {
   "cell_type": "code",
   "execution_count": 9,
   "metadata": {},
   "outputs": [
    {
     "data": {
      "text/plain": [
       "count                   60914\n",
       "unique                     92\n",
       "top       2015-07-03 00:00:00\n",
       "freq                     1623\n",
       "first     2015-05-01 00:00:00\n",
       "last      2015-07-31 00:00:00\n",
       "Name: Lead_Creation_Date, dtype: object"
      ]
     },
     "execution_count": 9,
     "metadata": {},
     "output_type": "execute_result"
    }
   ],
   "source": [
    "X_train.Lead_Creation_Date.describe()"
   ]
  },
  {
   "cell_type": "markdown",
   "metadata": {},
   "source": [
    "Na początku poprawiam wartości dla zmiennej DOB tam, gdzie rok błędnie się wczytał jako 20xx, a nie 19xx"
   ]
  },
  {
   "cell_type": "code",
   "execution_count": 10,
   "metadata": {},
   "outputs": [
    {
     "data": {
      "text/plain": [
       "count                   60914\n",
       "unique                  10450\n",
       "top       1980-11-11 00:00:00\n",
       "freq                      218\n",
       "first     1915-06-20 00:00:00\n",
       "last      1997-12-19 00:00:00\n",
       "Name: DOB, dtype: object"
      ]
     },
     "execution_count": 10,
     "metadata": {},
     "output_type": "execute_result"
    }
   ],
   "source": [
    "X_train['DOB'] = X_train.DOB.astype(str)\n",
    "X_train['DOB_year'] = X_train.DOB.str[:4].astype(int)\n",
    "X_train['DOB_month'] = X_train.DOB.str[5:7].astype(int)\n",
    "X_train['DOB_day'] = X_train.DOB.str[8:10].astype(int)\n",
    "X_train.loc[X_train['DOB_year'] >= 2000, 'DOB_year'] -= 100\n",
    "X_train[\"DOB\"] = pd.to_datetime(X_train.DOB_year*10000+X_train.DOB_month*100+X_train.DOB_day,format='%Y%m%d')\n",
    "\n",
    "X_train.DOB.describe()"
   ]
  },
  {
   "cell_type": "markdown",
   "metadata": {},
   "source": [
    "Analogiczna operacja na zbiorze testowym"
   ]
  },
  {
   "cell_type": "code",
   "execution_count": 11,
   "metadata": {},
   "outputs": [
    {
     "data": {
      "text/plain": [
       "count                   26106\n",
       "unique                   8112\n",
       "top       1980-11-11 00:00:00\n",
       "freq                       88\n",
       "first     1915-07-06 00:00:00\n",
       "last      1997-12-25 00:00:00\n",
       "Name: DOB, dtype: object"
      ]
     },
     "execution_count": 11,
     "metadata": {},
     "output_type": "execute_result"
    }
   ],
   "source": [
    "X_test['DOB'] = X_test.DOB.astype(str)\n",
    "X_test['DOB_year'] = X_test.DOB.str[:4].astype(int)\n",
    "X_test['DOB_month'] = X_test.DOB.str[5:7].astype(int)\n",
    "X_test['DOB_day'] = X_test.DOB.str[8:10].astype(int)\n",
    "X_test.loc[X_test['DOB_year'] >= 2000, 'DOB_year'] -= 100\n",
    "X_test[\"DOB\"] = pd.to_datetime(X_test.DOB_year*10000+X_test.DOB_month*100+X_test.DOB_day,format='%Y%m%d')\n",
    "\n",
    "X_test.DOB.describe()"
   ]
  },
  {
   "cell_type": "markdown",
   "metadata": {},
   "source": [
    "Zmienne Lead_Creation_Date i DOB same w sobie nie mają merytoryczngego związu ze zmienną celu. Dlatego zamiast brać je bezpośrednio tworzę zmienną, która będzie różnicą w latach między Lead_Creation_Date a DOB. Zmienna ta informuje o wieku klienta."
   ]
  },
  {
   "cell_type": "code",
   "execution_count": 12,
   "metadata": {},
   "outputs": [],
   "source": [
    "X_train[\"Age\"] = X_train['Lead_Creation_Date'] - X_train['DOB']\n",
    "X_train[\"Age\"] = (X_train[\"Age\"] / np.timedelta64(1, 'D')).astype(int)\n",
    "X_train[\"Age\"] /= 365\n",
    "\n",
    "X_test[\"Age\"] = X_test['Lead_Creation_Date'] - X_test['DOB']\n",
    "X_test[\"Age\"] = (X_test[\"Age\"] / np.timedelta64(1, 'D')).astype(int)\n",
    "X_test[\"Age\"] /= 365"
   ]
  },
  {
   "cell_type": "markdown",
   "metadata": {},
   "source": [
    "Usuwam już niepotrzebne zmienne."
   ]
  },
  {
   "cell_type": "code",
   "execution_count": 13,
   "metadata": {},
   "outputs": [],
   "source": [
    "X_train = X_train.drop(columns = ['DOB','DOB_year','DOB_month','DOB_day','Lead_Creation_Date'])\n",
    "X_test = X_test.drop(columns = ['DOB','DOB_year','DOB_month','DOB_day','Lead_Creation_Date'])"
   ]
  },
  {
   "cell_type": "markdown",
   "metadata": {},
   "source": [
    "## 2. Zmienne kategoryczne"
   ]
  },
  {
   "cell_type": "code",
   "execution_count": 14,
   "metadata": {},
   "outputs": [
    {
     "data": {
      "text/plain": [
       "Male      0.571937\n",
       "Female    0.428063\n",
       "Name: Gender, dtype: float64"
      ]
     },
     "execution_count": 14,
     "metadata": {},
     "output_type": "execute_result"
    }
   ],
   "source": [
    "X_train.Gender.value_counts()/len(X_train)"
   ]
  },
  {
   "cell_type": "code",
   "execution_count": 15,
   "metadata": {},
   "outputs": [
    {
     "data": {
      "text/plain": [
       "Delhi         0.144712\n",
       "Mumbai        0.123945\n",
       "Bengaluru     0.123157\n",
       "Hyderabad     0.082641\n",
       "Chennai       0.079801\n",
       "                ...   \n",
       "Tarn Taran    0.000016\n",
       "Kandhamal     0.000016\n",
       "Mokokchung    0.000016\n",
       "Namchi        0.000016\n",
       "Lohardaga     0.000016\n",
       "Name: City, Length: 662, dtype: float64"
      ]
     },
     "execution_count": 15,
     "metadata": {},
     "output_type": "execute_result"
    }
   ],
   "source": [
    "X_train.City.value_counts()/len(X_train)"
   ]
  },
  {
   "cell_type": "code",
   "execution_count": 16,
   "metadata": {},
   "outputs": [
    {
     "data": {
      "text/plain": [
       "0                                               0.056375\n",
       "TATA CONSULTANCY SERVICES LTD (TCS)             0.006402\n",
       "COGNIZANT TECHNOLOGY SOLUTIONS INDIA PVT LTD    0.004498\n",
       "GOOGLE                                          0.003727\n",
       "ACCENTURE SERVICES PVT LTD                      0.003628\n",
       "                                                  ...   \n",
       "JABIL SERVICES PVT LTD                          0.000016\n",
       "NEBULA E KIDS                                   0.000016\n",
       "WIPRO TNERPRISES LTD                            0.000016\n",
       "MAVERIC SOLUTION&CONSULTANCY PVT LTD            0.000016\n",
       "ARPIT GOUR                                      0.000016\n",
       "Name: Employer_Name, Length: 33022, dtype: float64"
      ]
     },
     "execution_count": 16,
     "metadata": {},
     "output_type": "execute_result"
    }
   ],
   "source": [
    "X_train.Employer_Name.value_counts()/len(X_train)"
   ]
  },
  {
   "cell_type": "code",
   "execution_count": 17,
   "metadata": {},
   "outputs": [
    {
     "data": {
      "text/plain": [
       "HDFC Bank                                          0.203681\n",
       "ICICI Bank                                         0.156499\n",
       "State Bank of India                                0.137473\n",
       "Axis Bank                                          0.100174\n",
       "Citibank                                           0.026841\n",
       "Kotak Bank                                         0.023640\n",
       "IDBI Bank                                          0.017976\n",
       "Punjab National Bank                               0.014069\n",
       "Bank of India                                      0.013183\n",
       "Bank of Baroda                                     0.013133\n",
       "Standard Chartered Bank                            0.011426\n",
       "Union Bank of India                                0.011262\n",
       "Canara Bank                                        0.011130\n",
       "Yes Bank                                           0.008701\n",
       "ING Vysya                                          0.007601\n",
       "Corporation bank                                   0.007338\n",
       "State Bank of Hyderabad                            0.006862\n",
       "Indian Overseas Bank                               0.006846\n",
       "Indian Bank                                        0.006550\n",
       "Oriental Bank of Commerce                          0.006189\n",
       "IndusInd Bank                                      0.006074\n",
       "Andhra Bank                                        0.005516\n",
       "Central Bank of India                              0.005253\n",
       "Syndicate Bank                                     0.004876\n",
       "Bank of Maharasthra                                0.004580\n",
       "State Bank of Bikaner & Jaipur                     0.003841\n",
       "HSBC                                               0.003677\n",
       "Karur Vysya Bank                                   0.003513\n",
       "Federal Bank                                       0.003053\n",
       "UCO Bank                                           0.002840\n",
       "Allahabad Bank                                     0.002791\n",
       "State Bank of Mysore                               0.002725\n",
       "Vijaya Bank                                        0.002709\n",
       "State Bank of Travancore                           0.002577\n",
       "Karnataka Bank                                     0.002298\n",
       "Saraswat Bank                                      0.002200\n",
       "United Bank of India                               0.002052\n",
       "Dena Bank                                          0.001970\n",
       "South Indian Bank                                  0.001954\n",
       "State Bank of Patiala                              0.001954\n",
       "Deutsche Bank                                      0.001445\n",
       "Abhyuday Co-op Bank Ltd                            0.001264\n",
       "The Ratnakar Bank Ltd                              0.000886\n",
       "Tamil Nadu Mercantile Bank                         0.000821\n",
       "Punjab & Sind bank                                 0.000739\n",
       "J&K Bank                                           0.000689\n",
       "Lakshmi Vilas bank                                 0.000657\n",
       "Dhanalakshmi Bank Ltd                              0.000476\n",
       "State Bank of Indore                               0.000213\n",
       "India Bulls                                        0.000164\n",
       "Catholic Syrian Bank                               0.000148\n",
       "B N P Paribas                                      0.000066\n",
       "Kerala Gramin Bank                                 0.000066\n",
       "GIC Housing Finance Ltd                            0.000066\n",
       "Bank of Rajasthan                                  0.000066\n",
       "Firstrand Bank Limited                             0.000066\n",
       "Industrial And Commercial Bank Of China Limited    0.000016\n",
       "Name: Salary_Account, dtype: float64"
      ]
     },
     "execution_count": 17,
     "metadata": {},
     "output_type": "execute_result"
    }
   ],
   "source": [
    "X_train.Salary_Account.value_counts()/len(X_train)"
   ]
  },
  {
   "cell_type": "code",
   "execution_count": 18,
   "metadata": {},
   "outputs": [
    {
     "data": {
      "text/plain": [
       "Y    0.649095\n",
       "N    0.350905\n",
       "Name: Mobile_Verified, dtype: float64"
      ]
     },
     "execution_count": 18,
     "metadata": {},
     "output_type": "execute_result"
    }
   ],
   "source": [
    "X_train.Mobile_Verified.value_counts()/len(X_train)"
   ]
  },
  {
   "cell_type": "code",
   "execution_count": 19,
   "metadata": {},
   "outputs": [
    {
     "data": {
      "text/plain": [
       "HBXX    0.682930\n",
       "HBXC    0.104180\n",
       "HBXB    0.051220\n",
       "HAXA    0.033047\n",
       "HBXA    0.024231\n",
       "HAXB    0.022540\n",
       "HBXD    0.022015\n",
       "HAXC    0.017697\n",
       "HBXH    0.010901\n",
       "HCXF    0.008175\n",
       "HAYT    0.005779\n",
       "HAVC    0.004432\n",
       "HAXM    0.003168\n",
       "HCXD    0.002610\n",
       "HCYS    0.002462\n",
       "HVYS    0.002265\n",
       "HAZD    0.001313\n",
       "HCXG    0.000903\n",
       "HAXF    0.000131\n",
       "Name: Var1, dtype: float64"
      ]
     },
     "execution_count": 19,
     "metadata": {},
     "output_type": "execute_result"
    }
   ],
   "source": [
    "X_train.Var1.value_counts()/len(X_train)"
   ]
  },
  {
   "cell_type": "code",
   "execution_count": 20,
   "metadata": {},
   "outputs": [
    {
     "data": {
      "text/plain": [
       "N    0.776981\n",
       "Y    0.223019\n",
       "Name: Filled_Form, dtype: float64"
      ]
     },
     "execution_count": 20,
     "metadata": {},
     "output_type": "execute_result"
    }
   ],
   "source": [
    "X_train.Filled_Form.value_counts()/len(X_train)"
   ]
  },
  {
   "cell_type": "code",
   "execution_count": 21,
   "metadata": {},
   "outputs": [
    {
     "data": {
      "text/plain": [
       "Web-browser    0.741767\n",
       "Mobile         0.258233\n",
       "Name: Device_Type, dtype: float64"
      ]
     },
     "execution_count": 21,
     "metadata": {},
     "output_type": "execute_result"
    }
   ],
   "source": [
    "X_train.Device_Type.value_counts()/len(X_train)"
   ]
  },
  {
   "cell_type": "code",
   "execution_count": 22,
   "metadata": {},
   "outputs": [
    {
     "data": {
      "text/plain": [
       "B    0.430213\n",
       "G    0.379798\n",
       "C    0.161342\n",
       "E    0.015300\n",
       "D    0.007108\n",
       "F    0.006173\n",
       "A    0.000066\n",
       "Name: Var2, dtype: float64"
      ]
     },
     "execution_count": 22,
     "metadata": {},
     "output_type": "execute_result"
    }
   ],
   "source": [
    "X_train.Var2.value_counts()/len(X_train)"
   ]
  },
  {
   "cell_type": "code",
   "execution_count": 23,
   "metadata": {},
   "outputs": [
    {
     "data": {
      "text/plain": [
       "S122    0.443281\n",
       "S133    0.343353\n",
       "S159    0.063959\n",
       "S143    0.050350\n",
       "S127    0.021703\n",
       "S137    0.019716\n",
       "S134    0.015382\n",
       "S161    0.009128\n",
       "S151    0.008077\n",
       "S157    0.007305\n",
       "S153    0.005516\n",
       "S144    0.003661\n",
       "S156    0.003595\n",
       "S158    0.002528\n",
       "S123    0.000788\n",
       "S141    0.000607\n",
       "S162    0.000394\n",
       "S124    0.000213\n",
       "S160    0.000148\n",
       "S150    0.000082\n",
       "S138    0.000049\n",
       "S129    0.000049\n",
       "S136    0.000033\n",
       "S155    0.000033\n",
       "S125    0.000016\n",
       "S135    0.000016\n",
       "S139    0.000016\n",
       "Name: Source, dtype: float64"
      ]
     },
     "execution_count": 23,
     "metadata": {},
     "output_type": "execute_result"
    }
   ],
   "source": [
    "X_train.Source.value_counts()/len(X_train)"
   ]
  },
  {
   "cell_type": "markdown",
   "metadata": {},
   "source": [
    "Zgodnie z opisem danych zmienną Var4 traktuję jako znakową, a nie numeryczną"
   ]
  },
  {
   "cell_type": "code",
   "execution_count": 24,
   "metadata": {},
   "outputs": [
    {
     "data": {
      "text/plain": [
       "3    0.292527\n",
       "1    0.273730\n",
       "5    0.231901\n",
       "4    0.075483\n",
       "2    0.068326\n",
       "0    0.029025\n",
       "7    0.026267\n",
       "6    0.002742\n",
       "Name: Var4, dtype: float64"
      ]
     },
     "execution_count": 24,
     "metadata": {},
     "output_type": "execute_result"
    }
   ],
   "source": [
    "X_train[\"Var4\"] = X_train.Var4.astype(\"object\")\n",
    "X_test[\"Var4\"] = X_test.Var4.astype(\"object\")\n",
    "\n",
    "X_train.Var4.value_counts()/len(X_train)"
   ]
  },
  {
   "cell_type": "markdown",
   "metadata": {},
   "source": [
    "Missingi przypisuję do kategorii 'Missing'"
   ]
  },
  {
   "cell_type": "code",
   "execution_count": 25,
   "metadata": {},
   "outputs": [],
   "source": [
    "for variable in ['Gender', 'City', 'Employer_Name', 'Salary_Account', 'Mobile_Verified', \n",
    "                 'Var1', 'Filled_Form','Device_Type', 'Var2', 'Source', 'Var4']:\n",
    "    X_train.loc[X_train[variable].isna(), variable] = 'Missing'\n",
    "    X_test.loc[X_test[variable].isna(), variable] = 'Missing'"
   ]
  },
  {
   "cell_type": "markdown",
   "metadata": {},
   "source": [
    "Dla niektórych zmiennych jest bardzo dużo unikalnych wartości. Z tego powodu tworzę funkcję, która będzie zostawiać tylko te wartości, któych udział jest powyżej 2%, a pozostałe zamieniać na \"Other\". Ponadto kategorię 'Missing' zawsze zostawiam, ponieważ to specyficzna kategoria."
   ]
  },
  {
   "cell_type": "code",
   "execution_count": 26,
   "metadata": {},
   "outputs": [],
   "source": [
    "def kateg_transf(variable):\n",
    "    \n",
    "    prog = len(X_train)*0.02\n",
    "    \n",
    "    result = {}\n",
    "    result_fin = {}\n",
    "    \n",
    "    lista_wartosci = list(X_train[variable])\n",
    "    \n",
    "    for value in lista_wartosci:\n",
    "        if value not in result:\n",
    "            result[value] = 1\n",
    "        else:\n",
    "            result[value] += 1\n",
    "    \n",
    "    for value in list(result.keys()):\n",
    "        if result[value] > prog:\n",
    "            result_fin[value] = result[value]\n",
    "        \n",
    "    czeste_wartosci = list(result_fin.keys())\n",
    "    czeste_wartosci = czeste_wartosci + ['Missing']\n",
    "    X_train.loc[~X_train[variable].isin(czeste_wartosci), variable] = 'Other'\n",
    "    X_test.loc[~X_test[variable].isin(czeste_wartosci), variable] = 'Other'"
   ]
  },
  {
   "cell_type": "markdown",
   "metadata": {},
   "source": [
    "Wywołuję funkcję dla 5 zmiennych, które mają więcej niż 1 kategorię poniżej progu 2%."
   ]
  },
  {
   "cell_type": "code",
   "execution_count": 27,
   "metadata": {},
   "outputs": [],
   "source": [
    "kateg_transf('City')\n",
    "kateg_transf('Salary_Account')\n",
    "kateg_transf('Var1')\n",
    "kateg_transf('Var2')\n",
    "kateg_transf('Source')"
   ]
  },
  {
   "cell_type": "markdown",
   "metadata": {},
   "source": [
    "Zmienna Employer_Name jest najbardziej rozdrobniona. Dla niej wybieram 20 najliczniejszych kategorii, a pozostałym przypisuję wartość 'Other'. "
   ]
  },
  {
   "cell_type": "code",
   "execution_count": 28,
   "metadata": {},
   "outputs": [],
   "source": [
    "employers_n = X_train.Employer_Name.value_counts()\n",
    "najwięksi_employers = list(employers_n.index[:20])\n",
    "najwięksi_employers.sort()\n",
    "\n",
    "X_train.loc[~X_train['Employer_Name'].isin(najwięksi_employers), 'Employer_Name' ] = 'Other'\n",
    "X_test.loc[~X_test['Employer_Name'].isin(najwięksi_employers), 'Employer_Name' ] = 'Other'"
   ]
  },
  {
   "cell_type": "code",
   "execution_count": 29,
   "metadata": {},
   "outputs": [
    {
     "data": {
      "text/plain": [
       "Other                                           23418\n",
       "0                                                1480\n",
       "TATA CONSULTANCY SERVICES LTD (TCS)               160\n",
       "COGNIZANT TECHNOLOGY SOLUTIONS INDIA PVT LTD      130\n",
       "ACCENTURE SERVICES PVT LTD                        103\n",
       "GOOGLE                                             74\n",
       "HCL TECHNOLOGIES LTD                               72\n",
       "ICICI BANK LTD                                     72\n",
       "INDIAN AIR FORCE                                   59\n",
       "INFOSYS TECHNOLOGIES                               57\n",
       "IBM CORPORATION                                    54\n",
       "GENPACT                                            52\n",
       "WIPRO TECHNOLOGIES                                 48\n",
       "INDIAN ARMY                                        47\n",
       "IKYA HUMAN CAPITAL SOLUTIONS LTD                   45\n",
       "HDFC BANK LTD                                      44\n",
       "TYPE SLOWLY FOR AUTO FILL                          44\n",
       "ARMY                                               39\n",
       "INDIAN RAILWAY                                     38\n",
       "INDIAN NAVY                                        36\n",
       "STATE GOVERNMENT                                   34\n",
       "Name: Employer_Name, dtype: int64"
      ]
     },
     "execution_count": 29,
     "metadata": {},
     "output_type": "execute_result"
    }
   ],
   "source": [
    "X_test.Employer_Name.value_counts()"
   ]
  },
  {
   "cell_type": "markdown",
   "metadata": {},
   "source": [
    "Dla wszystkich zmiennych kategorycznych robię transformację Weight of Evidence, żeby potem zmienne kategoryczne można było łatwo wziąć do budowy modelu razem ze zmiennymi numerycznymi."
   ]
  },
  {
   "cell_type": "code",
   "execution_count": 30,
   "metadata": {},
   "outputs": [
    {
     "name": "stdout",
     "output_type": "stream",
     "text": [
      "Gender: {'Male': 0.29126851645913804, 'Female': -0.5917537731674928}\n",
      "City: {'Other': -0.24046166105754777, 'Bengaluru': 0.10612154858839849, 'Mumbai': 0.07412975673370006, 'Chennai': -0.45604108445662744, 'Delhi': 0.29403825163759306, 'Hyderabad': -0.18390928177971752, 'Missing': -1.6221916989006944, 'Ahmedabad': 0.07306735035078127, 'Pune': 0.5811084887882836, 'Kolkata': 0.025826665904069224}\n",
      "Employer_Name: {'Other': 0.03488018683712165, 'GENPACT': 0.7911054185091828, '0': -2.3135906272671103, 'GOOGLE': 0.0, 'HDFC BANK LTD': 0.70048718458856, 'COGNIZANT TECHNOLOGY SOLUTIONS INDIA PVT LTD': 0.5756569034167734, 'ACCENTURE SERVICES PVT LTD': 1.0576337154259166, 'HCL TECHNOLOGIES LTD': 0.4442344746670714, 'ICICI BANK LTD': -0.8949923755948336, 'INDIAN AIR FORCE': 0.0, 'INDIAN ARMY': -0.5951889426107078, 'ARMY': 0.0, 'STATE GOVERNMENT': -0.3781244373728802, 'INDIAN NAVY': -0.2938640937551402, 'TYPE SLOWLY FOR AUTO FILL': 0.5706755730665692, 'INFOSYS TECHNOLOGIES': -0.5951889426107078, 'WIPRO TECHNOLOGIES': -0.4464436813503575, 'TATA CONSULTANCY SERVICES LTD (TCS)': 0.9264635989870738, 'IBM CORPORATION': 0.5620175103234548, 'INDIAN RAILWAY': 1.3605252065412263, 'IKYA HUMAN CAPITAL SOLUTIONS LTD': -0.3473527787061265}\n",
      "Salary_Account: {'Other': -0.2895814319631395, 'Axis Bank': 0.18158664765128862, 'HDFC Bank': 0.3038208073050029, 'Citibank': 0.7398453086775431, 'ICICI Bank': 0.48072101874545936, 'State Bank of India': -0.48940677830042784, 'Missing': -1.7515903519613412, 'Kotak Bank': 0.18098642755257252}\n",
      "Mobile_Verified: {'Y': 0.2519726892805974, 'N': -0.7420404056145989}\n",
      "Var1: {'HBXC': -0.3539017997970338, 'HBXX': -0.27871484733283564, 'HBXB': -1.628479506799708, 'HAXA': 0.5260772219579251, 'HBXA': 1.1865775812198287, 'HAXB': 1.4861902086658358, 'Other': 0.756339961194402, 'HBXD': 0.7349863883631408}\n",
      "Filled_Form: {'Y': 0.4892268654610529, 'N': -0.197258079962601}\n",
      "Device_Type: {'Web-browser': 0.06519089486638172, 'Mobile': -0.2141430846528197}\n",
      "Var2: {'B': 0.13299603660358156, 'C': -0.1268100090919741, 'G': -0.0952064218355217, 'Other': -0.29212747971522324}\n",
      "Source: {'S133': 0.09296571634611654, 'S159': -0.7859178352406357, 'S122': 0.022252752020162313, 'Other': -0.27853159577655445, 'S143': 0.35243012626921705, 'S127': -0.6597274637482788}\n",
      "Var4: {5: 0.44925552663040186, 1: -0.988278433935539, 2: 0.5821182806741027, 3: 0.0538859252583403, 7: -2.060274446785193, 4: 0.3031962079323078, 0: -3.2600430595579866, 6: -0.8949923755948336}\n"
     ]
    }
   ],
   "source": [
    "All_train = X_train.merge(y_train, on='ID')\n",
    "\n",
    "for variable in ['Gender', 'City', 'Employer_Name', 'Salary_Account', 'Mobile_Verified', \n",
    "                 'Var1', 'Filled_Form','Device_Type', 'Var2', 'Source', 'Var4']:\n",
    "    \n",
    "    value_list = []\n",
    "    \n",
    "    for value in list(All_train[variable].unique()):\n",
    "        value_list.append({\n",
    "            'Value': value,\n",
    "            'All': All_train[All_train[variable] == value].count()[variable],\n",
    "            'Goods': All_train[(All_train[variable] == value) & (All_train['Disbursed'] == 1)].count()[variable],\n",
    "            'Bads': All_train[(All_train[variable] == value) & (All_train['Disbursed'] == 0)].count()[variable]\n",
    "        })\n",
    "    woe_list = pd.DataFrame(value_list)\n",
    "    woe_list['Distr_Goods'] = woe_list['Goods'] / woe_list['Goods'].sum()\n",
    "    woe_list['Distr_Bads'] = woe_list['Bads'] / woe_list['Bads'].sum()\n",
    "    woe_list['WoE'] = np.log(woe_list['Distr_Goods'] / woe_list['Distr_Bads'])\n",
    "    woe_list = woe_list.replace({'WoE': {np.inf: 0, -np.inf: 0}})\n",
    "       \n",
    "    woe_dict = dict(zip(woe_list['Value'], woe_list['WoE']))\n",
    "        \n",
    "    X_train[variable] = X_train[variable].replace(woe_dict)\n",
    "    X_test[variable] = X_test[variable].replace(woe_dict)\n",
    "    \n",
    "    print(f'{variable}: {woe_dict}')"
   ]
  },
  {
   "cell_type": "markdown",
   "metadata": {},
   "source": [
    "## 3. Zmienne numeryczne\n",
    "\n",
    "Tworzę tabelę z podstawowymi statystykami dla poszcególnych zmiennych oraz wykresy gęstości"
   ]
  },
  {
   "cell_type": "code",
   "execution_count": 31,
   "metadata": {},
   "outputs": [],
   "source": [
    "X_train_num = X_train[['Monthly_Income'       \n",
    " ,'Loan_Amount_Applied'   \n",
    " ,'Loan_Tenure_Applied'   \n",
    " ,'Existing_EMI'                  \n",
    " ,'Var5'                                \n",
    " ,'Loan_Amount_Submitted' \n",
    " ,'Loan_Tenure_Submitted'\n",
    " ,'Interest_Rate'    \n",
    " ,'Processing_Fee'    \n",
    " ,'EMI_Loan_Submitted'                                                     \n",
    " ,'Age']]"
   ]
  },
  {
   "cell_type": "code",
   "execution_count": 32,
   "metadata": {},
   "outputs": [],
   "source": [
    "statystyki = X_train_num.describe()\n",
    "statystyki.index = ['count', 'mean', 'std', 'min', 'Q1', 'median', 'Q3', 'max']\n",
    "statystyki=statystyki.T\n",
    "missing=pd.DataFrame(X_train_num.isnull().sum())\n",
    "missing.columns=[\"missing\"]\n",
    "statystyki = statystyki.join(missing)"
   ]
  },
  {
   "cell_type": "code",
   "execution_count": 33,
   "metadata": {},
   "outputs": [
    {
     "data": {
      "text/html": [
       "<div>\n",
       "<style scoped>\n",
       "    .dataframe tbody tr th:only-of-type {\n",
       "        vertical-align: middle;\n",
       "    }\n",
       "\n",
       "    .dataframe tbody tr th {\n",
       "        vertical-align: top;\n",
       "    }\n",
       "\n",
       "    .dataframe thead th {\n",
       "        text-align: right;\n",
       "    }\n",
       "</style>\n",
       "<table border=\"1\" class=\"dataframe\">\n",
       "  <thead>\n",
       "    <tr style=\"text-align: right;\">\n",
       "      <th></th>\n",
       "      <th>count</th>\n",
       "      <th>mean</th>\n",
       "      <th>std</th>\n",
       "      <th>min</th>\n",
       "      <th>Q1</th>\n",
       "      <th>median</th>\n",
       "      <th>Q3</th>\n",
       "      <th>max</th>\n",
       "      <th>missing</th>\n",
       "    </tr>\n",
       "  </thead>\n",
       "  <tbody>\n",
       "    <tr>\n",
       "      <th>Monthly_Income</th>\n",
       "      <td>60914.0</td>\n",
       "      <td>53326.727698</td>\n",
       "      <td>1.710813e+06</td>\n",
       "      <td>0.00000</td>\n",
       "      <td>16500.000000</td>\n",
       "      <td>25000.000000</td>\n",
       "      <td>40000.00000</td>\n",
       "      <td>3.838384e+08</td>\n",
       "      <td>0</td>\n",
       "    </tr>\n",
       "    <tr>\n",
       "      <th>Loan_Amount_Applied</th>\n",
       "      <td>60864.0</td>\n",
       "      <td>230498.602819</td>\n",
       "      <td>3.514932e+05</td>\n",
       "      <td>0.00000</td>\n",
       "      <td>0.000000</td>\n",
       "      <td>100000.000000</td>\n",
       "      <td>300000.00000</td>\n",
       "      <td>9.999999e+06</td>\n",
       "      <td>50</td>\n",
       "    </tr>\n",
       "    <tr>\n",
       "      <th>Loan_Tenure_Applied</th>\n",
       "      <td>60864.0</td>\n",
       "      <td>2.143320</td>\n",
       "      <td>2.014516e+00</td>\n",
       "      <td>0.00000</td>\n",
       "      <td>0.000000</td>\n",
       "      <td>2.000000</td>\n",
       "      <td>4.00000</td>\n",
       "      <td>1.000000e+01</td>\n",
       "      <td>50</td>\n",
       "    </tr>\n",
       "    <tr>\n",
       "      <th>Existing_EMI</th>\n",
       "      <td>60864.0</td>\n",
       "      <td>3686.607008</td>\n",
       "      <td>4.164019e+04</td>\n",
       "      <td>0.00000</td>\n",
       "      <td>0.000000</td>\n",
       "      <td>0.000000</td>\n",
       "      <td>3500.00000</td>\n",
       "      <td>1.000000e+07</td>\n",
       "      <td>50</td>\n",
       "    </tr>\n",
       "    <tr>\n",
       "      <th>Var5</th>\n",
       "      <td>60914.0</td>\n",
       "      <td>4.960649</td>\n",
       "      <td>5.661877e+00</td>\n",
       "      <td>0.00000</td>\n",
       "      <td>0.000000</td>\n",
       "      <td>2.000000</td>\n",
       "      <td>11.00000</td>\n",
       "      <td>1.800000e+01</td>\n",
       "      <td>0</td>\n",
       "    </tr>\n",
       "    <tr>\n",
       "      <th>Loan_Amount_Submitted</th>\n",
       "      <td>36706.0</td>\n",
       "      <td>394901.650956</td>\n",
       "      <td>3.093099e+05</td>\n",
       "      <td>50000.00000</td>\n",
       "      <td>200000.000000</td>\n",
       "      <td>300000.000000</td>\n",
       "      <td>500000.00000</td>\n",
       "      <td>3.000000e+06</td>\n",
       "      <td>24208</td>\n",
       "    </tr>\n",
       "    <tr>\n",
       "      <th>Loan_Tenure_Submitted</th>\n",
       "      <td>36706.0</td>\n",
       "      <td>3.890154</td>\n",
       "      <td>1.166357e+00</td>\n",
       "      <td>1.00000</td>\n",
       "      <td>3.000000</td>\n",
       "      <td>4.000000</td>\n",
       "      <td>5.00000</td>\n",
       "      <td>6.000000e+00</td>\n",
       "      <td>24208</td>\n",
       "    </tr>\n",
       "    <tr>\n",
       "      <th>Interest_Rate</th>\n",
       "      <td>19314.0</td>\n",
       "      <td>19.214590</td>\n",
       "      <td>5.845559e+00</td>\n",
       "      <td>11.99000</td>\n",
       "      <td>15.250000</td>\n",
       "      <td>18.000000</td>\n",
       "      <td>20.00000</td>\n",
       "      <td>3.700000e+01</td>\n",
       "      <td>41600</td>\n",
       "    </tr>\n",
       "    <tr>\n",
       "      <th>Processing_Fee</th>\n",
       "      <td>19099.0</td>\n",
       "      <td>5112.117179</td>\n",
       "      <td>4.705056e+03</td>\n",
       "      <td>200.00000</td>\n",
       "      <td>2000.000000</td>\n",
       "      <td>3900.000000</td>\n",
       "      <td>6238.50000</td>\n",
       "      <td>5.000000e+04</td>\n",
       "      <td>41815</td>\n",
       "    </tr>\n",
       "    <tr>\n",
       "      <th>EMI_Loan_Submitted</th>\n",
       "      <td>19314.0</td>\n",
       "      <td>10976.268523</td>\n",
       "      <td>7.485150e+03</td>\n",
       "      <td>1185.56000</td>\n",
       "      <td>6318.280000</td>\n",
       "      <td>9338.600000</td>\n",
       "      <td>12823.07250</td>\n",
       "      <td>1.447483e+05</td>\n",
       "      <td>41600</td>\n",
       "    </tr>\n",
       "    <tr>\n",
       "      <th>Age</th>\n",
       "      <td>60914.0</td>\n",
       "      <td>30.904940</td>\n",
       "      <td>7.146611e+00</td>\n",
       "      <td>17.40274</td>\n",
       "      <td>26.073973</td>\n",
       "      <td>29.238356</td>\n",
       "      <td>33.79726</td>\n",
       "      <td>1.001425e+02</td>\n",
       "      <td>0</td>\n",
       "    </tr>\n",
       "  </tbody>\n",
       "</table>\n",
       "</div>"
      ],
      "text/plain": [
       "                         count           mean           std          min  \\\n",
       "Monthly_Income         60914.0   53326.727698  1.710813e+06      0.00000   \n",
       "Loan_Amount_Applied    60864.0  230498.602819  3.514932e+05      0.00000   \n",
       "Loan_Tenure_Applied    60864.0       2.143320  2.014516e+00      0.00000   \n",
       "Existing_EMI           60864.0    3686.607008  4.164019e+04      0.00000   \n",
       "Var5                   60914.0       4.960649  5.661877e+00      0.00000   \n",
       "Loan_Amount_Submitted  36706.0  394901.650956  3.093099e+05  50000.00000   \n",
       "Loan_Tenure_Submitted  36706.0       3.890154  1.166357e+00      1.00000   \n",
       "Interest_Rate          19314.0      19.214590  5.845559e+00     11.99000   \n",
       "Processing_Fee         19099.0    5112.117179  4.705056e+03    200.00000   \n",
       "EMI_Loan_Submitted     19314.0   10976.268523  7.485150e+03   1185.56000   \n",
       "Age                    60914.0      30.904940  7.146611e+00     17.40274   \n",
       "\n",
       "                                  Q1         median            Q3  \\\n",
       "Monthly_Income          16500.000000   25000.000000   40000.00000   \n",
       "Loan_Amount_Applied         0.000000  100000.000000  300000.00000   \n",
       "Loan_Tenure_Applied         0.000000       2.000000       4.00000   \n",
       "Existing_EMI                0.000000       0.000000    3500.00000   \n",
       "Var5                        0.000000       2.000000      11.00000   \n",
       "Loan_Amount_Submitted  200000.000000  300000.000000  500000.00000   \n",
       "Loan_Tenure_Submitted       3.000000       4.000000       5.00000   \n",
       "Interest_Rate              15.250000      18.000000      20.00000   \n",
       "Processing_Fee           2000.000000    3900.000000    6238.50000   \n",
       "EMI_Loan_Submitted       6318.280000    9338.600000   12823.07250   \n",
       "Age                        26.073973      29.238356      33.79726   \n",
       "\n",
       "                                max  missing  \n",
       "Monthly_Income         3.838384e+08        0  \n",
       "Loan_Amount_Applied    9.999999e+06       50  \n",
       "Loan_Tenure_Applied    1.000000e+01       50  \n",
       "Existing_EMI           1.000000e+07       50  \n",
       "Var5                   1.800000e+01        0  \n",
       "Loan_Amount_Submitted  3.000000e+06    24208  \n",
       "Loan_Tenure_Submitted  6.000000e+00    24208  \n",
       "Interest_Rate          3.700000e+01    41600  \n",
       "Processing_Fee         5.000000e+04    41815  \n",
       "EMI_Loan_Submitted     1.447483e+05    41600  \n",
       "Age                    1.001425e+02        0  "
      ]
     },
     "execution_count": 33,
     "metadata": {},
     "output_type": "execute_result"
    }
   ],
   "source": [
    "statystyki"
   ]
  },
  {
   "cell_type": "code",
   "execution_count": 34,
   "metadata": {},
   "outputs": [
    {
     "data": {
      "image/png": "[encoded data removed]",
      "text/plain": [
       "<Figure size 432x288 with 1 Axes>"
      ]
     },
     "metadata": {
      "needs_background": "light"
     },
     "output_type": "display_data"
    },
    {
     "data": {
      "image/png": "[encoded data removed]",
      "text/plain": [
       "<Figure size 432x288 with 1 Axes>"
      ]
     },
     "metadata": {
      "needs_background": "light"
     },
     "output_type": "display_data"
    },
    {
     "data": {
      "image/png": "[encoded data removed]",
      "text/plain": [
       "<Figure size 432x288 with 1 Axes>"
      ]
     },
     "metadata": {
      "needs_background": "light"
     },
     "output_type": "display_data"
    },
    {
     "data": {
      "image/png": "[encoded data removed]",
      "text/plain": [
       "<Figure size 432x288 with 1 Axes>"
      ]
     },
     "metadata": {
      "needs_background": "light"
     },
     "output_type": "display_data"
    },
    {
     "data": {
      "image/png": "[encoded data removed]",
      "text/plain": [
       "<Figure size 432x288 with 1 Axes>"
      ]
     },
     "metadata": {
      "needs_background": "light"
     },
     "output_type": "display_data"
    },
    {
     "data": {
      "image/png": "[encoded data removed]",
      "text/plain": [
       "<Figure size 432x288 with 1 Axes>"
      ]
     },
     "metadata": {
      "needs_background": "light"
     },
     "output_type": "display_data"
    },
    {
     "data": {
      "image/png": "[encoded data removed]",
      "text/plain": [
       "<Figure size 432x288 with 1 Axes>"
      ]
     },
     "metadata": {
      "needs_background": "light"
     },
     "output_type": "display_data"
    },
    {
     "data": {
      "image/png": "[encoded data removed]",
      "text/plain": [
       "<Figure size 432x288 with 1 Axes>"
      ]
     },
     "metadata": {
      "needs_background": "light"
     },
     "output_type": "display_data"
    },
    {
     "data": {
      "image/png": "[encoded data removed]",
      "text/plain": [
       "<Figure size 432x288 with 1 Axes>"
      ]
     },
     "metadata": {
      "needs_background": "light"
     },
     "output_type": "display_data"
    },
    {
     "data": {
      "image/png": "[encoded data removed]",
      "text/plain": [
       "<Figure size 432x288 with 1 Axes>"
      ]
     },
     "metadata": {
      "needs_background": "light"
     },
     "output_type": "display_data"
    },
    {
     "data": {
      "image/png": "[encoded data removed]",
      "text/plain": [
       "<Figure size 432x288 with 1 Axes>"
      ]
     },
     "metadata": {
      "needs_background": "light"
     },
     "output_type": "display_data"
    }
   ],
   "source": [
    "for variable in X_train_num.columns:\n",
    "    sns.distplot(X_train_num[variable], hist = False, kde_kws = {'linewidth': 4},label = variable)\n",
    "    plt.xlabel(variable)\n",
    "    plt.ylabel('Gęstość')\n",
    "    plt.show()"
   ]
  },
  {
   "cell_type": "markdown",
   "metadata": {},
   "source": [
    "Widać, że 8 z 11 zmiennych ma braki. Zastępuję je medianami wyliczonymi na zbiorze treningowym. "
   ]
  },
  {
   "cell_type": "code",
   "execution_count": 35,
   "metadata": {},
   "outputs": [],
   "source": [
    "for variable in X_train_num.columns: \n",
    "    X_train.loc[X_train[variable].isna(), variable] = statystyki['median'][variable]\n",
    "    X_test.loc[X_test[variable].isna(), variable] = statystyki['median'][variable]"
   ]
  },
  {
   "cell_type": "markdown",
   "metadata": {},
   "source": [
    "# Moc dyskryminacyjna zmiennych\n",
    "\n",
    "Przed puszczeniem modeli sprawdzam moc dyskryminacyjną poszczególnych zmiennych miarą AUC zarówno na zbiorze treningowym jak i testowym."
   ]
  },
  {
   "cell_type": "code",
   "execution_count": 36,
   "metadata": {},
   "outputs": [],
   "source": [
    "result_train={}\n",
    "result_test={}\n",
    "\n",
    "for variable in X_train.columns:\n",
    "\n",
    "    AUC_train=roc_auc_score(y_train, X_train[variable])\n",
    "    result_train[variable] = AUC_train\n",
    "    AUC_test=roc_auc_score(y_test, X_test[variable])\n",
    "    result_test[variable] = AUC_test\n",
    "    \n",
    "result_train = pd.DataFrame.from_dict(result_train, orient='index', columns=['AUC_train'])\n",
    "result_test = pd.DataFrame.from_dict(result_test, orient='index', columns=['AUC_test'])\n",
    "result_fin = result_train.join(result_test)"
   ]
  },
  {
   "cell_type": "code",
   "execution_count": 37,
   "metadata": {},
   "outputs": [
    {
     "data": {
      "text/html": [
       "<div>\n",
       "<style scoped>\n",
       "    .dataframe tbody tr th:only-of-type {\n",
       "        vertical-align: middle;\n",
       "    }\n",
       "\n",
       "    .dataframe tbody tr th {\n",
       "        vertical-align: top;\n",
       "    }\n",
       "\n",
       "    .dataframe thead th {\n",
       "        text-align: right;\n",
       "    }\n",
       "</style>\n",
       "<table border=\"1\" class=\"dataframe\">\n",
       "  <thead>\n",
       "    <tr style=\"text-align: right;\">\n",
       "      <th></th>\n",
       "      <th>AUC_train</th>\n",
       "      <th>AUC_test</th>\n",
       "    </tr>\n",
       "  </thead>\n",
       "  <tbody>\n",
       "    <tr>\n",
       "      <th>Monthly_Income</th>\n",
       "      <td>0.786693</td>\n",
       "      <td>0.788868</td>\n",
       "    </tr>\n",
       "    <tr>\n",
       "      <th>Var5</th>\n",
       "      <td>0.752595</td>\n",
       "      <td>0.730895</td>\n",
       "    </tr>\n",
       "    <tr>\n",
       "      <th>Var4</th>\n",
       "      <td>0.648029</td>\n",
       "      <td>0.615261</td>\n",
       "    </tr>\n",
       "    <tr>\n",
       "      <th>Salary_Account</th>\n",
       "      <td>0.639839</td>\n",
       "      <td>0.637238</td>\n",
       "    </tr>\n",
       "    <tr>\n",
       "      <th>Var1</th>\n",
       "      <td>0.638594</td>\n",
       "      <td>0.608445</td>\n",
       "    </tr>\n",
       "    <tr>\n",
       "      <th>Existing_EMI</th>\n",
       "      <td>0.613231</td>\n",
       "      <td>0.616769</td>\n",
       "    </tr>\n",
       "    <tr>\n",
       "      <th>Age</th>\n",
       "      <td>0.612765</td>\n",
       "      <td>0.632291</td>\n",
       "    </tr>\n",
       "    <tr>\n",
       "      <th>Loan_Amount_Applied</th>\n",
       "      <td>0.608719</td>\n",
       "      <td>0.612963</td>\n",
       "    </tr>\n",
       "    <tr>\n",
       "      <th>Gender</th>\n",
       "      <td>0.596220</td>\n",
       "      <td>0.575777</td>\n",
       "    </tr>\n",
       "    <tr>\n",
       "      <th>Mobile_Verified</th>\n",
       "      <td>0.592617</td>\n",
       "      <td>0.576131</td>\n",
       "    </tr>\n",
       "    <tr>\n",
       "      <th>Loan_Amount_Submitted</th>\n",
       "      <td>0.591817</td>\n",
       "      <td>0.564397</td>\n",
       "    </tr>\n",
       "    <tr>\n",
       "      <th>Loan_Tenure_Applied</th>\n",
       "      <td>0.583683</td>\n",
       "      <td>0.590809</td>\n",
       "    </tr>\n",
       "    <tr>\n",
       "      <th>City</th>\n",
       "      <td>0.579722</td>\n",
       "      <td>0.595387</td>\n",
       "    </tr>\n",
       "    <tr>\n",
       "      <th>Filled_Form</th>\n",
       "      <td>0.569729</td>\n",
       "      <td>0.552634</td>\n",
       "    </tr>\n",
       "    <tr>\n",
       "      <th>EMI_Loan_Submitted</th>\n",
       "      <td>0.554043</td>\n",
       "      <td>0.525580</td>\n",
       "    </tr>\n",
       "    <tr>\n",
       "      <th>Employer_Name</th>\n",
       "      <td>0.546625</td>\n",
       "      <td>0.546998</td>\n",
       "    </tr>\n",
       "    <tr>\n",
       "      <th>Source</th>\n",
       "      <td>0.546176</td>\n",
       "      <td>0.559744</td>\n",
       "    </tr>\n",
       "    <tr>\n",
       "      <th>Processing_Fee</th>\n",
       "      <td>0.536737</td>\n",
       "      <td>0.505414</td>\n",
       "    </tr>\n",
       "    <tr>\n",
       "      <th>Var2</th>\n",
       "      <td>0.532604</td>\n",
       "      <td>0.544835</td>\n",
       "    </tr>\n",
       "    <tr>\n",
       "      <th>Device_Type</th>\n",
       "      <td>0.524959</td>\n",
       "      <td>0.532246</td>\n",
       "    </tr>\n",
       "    <tr>\n",
       "      <th>Loan_Tenure_Submitted</th>\n",
       "      <td>0.509701</td>\n",
       "      <td>0.500825</td>\n",
       "    </tr>\n",
       "    <tr>\n",
       "      <th>Interest_Rate</th>\n",
       "      <td>0.336258</td>\n",
       "      <td>0.364072</td>\n",
       "    </tr>\n",
       "  </tbody>\n",
       "</table>\n",
       "</div>"
      ],
      "text/plain": [
       "                       AUC_train  AUC_test\n",
       "Monthly_Income          0.786693  0.788868\n",
       "Var5                    0.752595  0.730895\n",
       "Var4                    0.648029  0.615261\n",
       "Salary_Account          0.639839  0.637238\n",
       "Var1                    0.638594  0.608445\n",
       "Existing_EMI            0.613231  0.616769\n",
       "Age                     0.612765  0.632291\n",
       "Loan_Amount_Applied     0.608719  0.612963\n",
       "Gender                  0.596220  0.575777\n",
       "Mobile_Verified         0.592617  0.576131\n",
       "Loan_Amount_Submitted   0.591817  0.564397\n",
       "Loan_Tenure_Applied     0.583683  0.590809\n",
       "City                    0.579722  0.595387\n",
       "Filled_Form             0.569729  0.552634\n",
       "EMI_Loan_Submitted      0.554043  0.525580\n",
       "Employer_Name           0.546625  0.546998\n",
       "Source                  0.546176  0.559744\n",
       "Processing_Fee          0.536737  0.505414\n",
       "Var2                    0.532604  0.544835\n",
       "Device_Type             0.524959  0.532246\n",
       "Loan_Tenure_Submitted   0.509701  0.500825\n",
       "Interest_Rate           0.336258  0.364072"
      ]
     },
     "execution_count": 37,
     "metadata": {},
     "output_type": "execute_result"
    }
   ],
   "source": [
    "result_fin.sort_values(by='AUC_train', ascending=False)"
   ]
  },
  {
   "cell_type": "markdown",
   "metadata": {},
   "source": [
    "# Modele\n",
    "\n",
    "Buduję model wykorzystując po kolei 3 metody klasyfikacji: regresję logistyczną, drzewo decyzyjne, las losowy. Następnie porównuję wyniki uzyskane przy użyciu tych metod."
   ]
  },
  {
   "cell_type": "code",
   "execution_count": 38,
   "metadata": {},
   "outputs": [
    {
     "data": {
      "text/plain": [
       "0.01452867977804774"
      ]
     },
     "execution_count": 38,
     "metadata": {},
     "output_type": "execute_result"
    }
   ],
   "source": [
    "np.mean(y_train)"
   ]
  },
  {
   "cell_type": "code",
   "execution_count": 39,
   "metadata": {},
   "outputs": [
    {
     "data": {
      "text/plain": [
       "0.014862483720217574"
      ]
     },
     "execution_count": 39,
     "metadata": {},
     "output_type": "execute_result"
    }
   ],
   "source": [
    "np.mean(y_test)"
   ]
  },
  {
   "cell_type": "markdown",
   "metadata": {},
   "source": [
    "Widać też, że występuje niezbalansowanie klas. Dlatego będę ważył klasy."
   ]
  },
  {
   "cell_type": "markdown",
   "metadata": {},
   "source": [
    "## 1. Regresja logistyczna"
   ]
  },
  {
   "cell_type": "code",
   "execution_count": 40,
   "metadata": {},
   "outputs": [
    {
     "data": {
      "text/plain": [
       "Pipeline(steps=[('scale', StandardScaler()),\n",
       "                ('log_reg',\n",
       "                 LogisticRegression(C=10, class_weight={0: 1, 1: 15}))])"
      ]
     },
     "execution_count": 40,
     "metadata": {},
     "output_type": "execute_result"
    }
   ],
   "source": [
    "pipe = Pipeline([(\"scale\", StandardScaler()),\n",
    "                 (\"log_reg\", LogisticRegression())])\n",
    "\n",
    "param_grid = {\"log_reg__penalty\": [\"l1\", \"l2\"],\n",
    "              \"log_reg__C\": [10, 1, 0.1, 0.01],\n",
    "              \"log_reg__class_weight\": [{0:1, 1:10}, {0:1, 1:15}, {0:1, 1:50}, {0:1, 1:100}]}\n",
    "\n",
    "gs_reg=GridSearchCV(pipe, param_grid, scoring='f1', cv=3, n_jobs=-1)\n",
    "gs_reg.fit(X_train, y_train)\n",
    "gs_reg.best_estimator_"
   ]
  },
  {
   "cell_type": "code",
   "execution_count": 41,
   "metadata": {},
   "outputs": [],
   "source": [
    "accuracy_reg = accuracy_score(y_test, gs_reg.best_estimator_.predict(X_test))\n",
    "f1_reg = f1_score(y_test, gs_reg.best_estimator_.predict(X_test))\n",
    "AUC_reg = roc_auc_score(y_test, gs_reg.best_estimator_.predict_proba(X_test)[:,1])"
   ]
  },
  {
   "cell_type": "markdown",
   "metadata": {},
   "source": [
    "## 2. Drzewo decyzyjne"
   ]
  },
  {
   "cell_type": "code",
   "execution_count": 42,
   "metadata": {},
   "outputs": [
    {
     "data": {
      "text/plain": [
       "DecisionTreeClassifier(class_weight={0: 1, 1: 10}, max_depth=10)"
      ]
     },
     "execution_count": 42,
     "metadata": {},
     "output_type": "execute_result"
    }
   ],
   "source": [
    "param_grid = {\"criterion\": [\"gini\", \"entropy\"],\n",
    "              \"max_depth\": [10, 20, 50, 100],\n",
    "              \"min_samples_leaf\": [1, 5, 10],\n",
    "              \"class_weight\": [{0:1, 1:10}, {0:1, 1:15}, {0:1, 1:50}, {0:1, 1:100}]}\n",
    "\n",
    "gs_tree = GridSearchCV(DecisionTreeClassifier(), param_grid, scoring='f1', cv=3, n_jobs=-1)\n",
    "gs_tree.fit(X_train, y_train)\n",
    "gs_tree.best_estimator_"
   ]
  },
  {
   "cell_type": "code",
   "execution_count": 43,
   "metadata": {},
   "outputs": [],
   "source": [
    "accuracy_tree = accuracy_score(y_test, gs_tree.best_estimator_.predict(X_test))\n",
    "f1_tree = f1_score(y_test, gs_tree.best_estimator_.predict(X_test))\n",
    "AUC_tree = roc_auc_score(y_test, gs_tree.best_estimator_.predict_proba(X_test)[:,1])"
   ]
  },
  {
   "cell_type": "markdown",
   "metadata": {},
   "source": [
    "## 3. Las losowy"
   ]
  },
  {
   "cell_type": "code",
   "execution_count": 44,
   "metadata": {},
   "outputs": [
    {
     "data": {
      "text/plain": [
       "RandomForestClassifier(class_weight={0: 1, 1: 100}, max_depth=100,\n",
       "                       min_samples_leaf=10, n_estimators=20)"
      ]
     },
     "execution_count": 44,
     "metadata": {},
     "output_type": "execute_result"
    }
   ],
   "source": [
    "param_grid = {\"n_estimators\": [2, 10, 20],\n",
    "              \"criterion\": [\"gini\",\"entropy\"],\n",
    "              \"max_depth\": [10, 20, 50, 100],\n",
    "              \"min_samples_leaf\": [1, 5, 10],\n",
    "              \"class_weight\": [{0:1, 1:10}, {0:1, 1:15}, {0:1, 1:50}, {0:1, 1:100}]}\n",
    "\n",
    "gs_forest = GridSearchCV(RandomForestClassifier(), param_grid, scoring='f1', cv=3, n_jobs=-1)\n",
    "gs_forest.fit(X_train, y_train)\n",
    "gs_forest.best_estimator_"
   ]
  },
  {
   "cell_type": "code",
   "execution_count": 45,
   "metadata": {},
   "outputs": [],
   "source": [
    "accuracy_forest = accuracy_score(y_test, gs_forest.best_estimator_.predict(X_test))\n",
    "f1_forest = f1_score(y_test, gs_forest.best_estimator_.predict(X_test))\n",
    "AUC_forest = roc_auc_score(y_test, gs_forest.best_estimator_.predict_proba(X_test)[:,1])"
   ]
  },
  {
   "cell_type": "markdown",
   "metadata": {},
   "source": [
    "## Podsumowanie modeli\n",
    "\n",
    "Porównuję modele miarami Accuracy, F1 oraz AUC wyliczonymi na zbiorze testowym."
   ]
  },
  {
   "cell_type": "code",
   "execution_count": 46,
   "metadata": {},
   "outputs": [],
   "source": [
    "Podsumowanie=pd.DataFrame({\n",
    "                    'Accuracy': [accuracy_reg, accuracy_tree, accuracy_forest],\n",
    "                    'F1': [f1_reg, f1_tree, f1_forest],\n",
    "                    'AUC': [AUC_reg, AUC_tree, AUC_forest]\n",
    "                     },\n",
    "                    index = ['Regresja logistyczna', 'Drzewo decyzyjne', 'Las losowy'])"
   ]
  },
  {
   "cell_type": "code",
   "execution_count": 47,
   "metadata": {},
   "outputs": [
    {
     "data": {
      "text/html": [
       "<div>\n",
       "<style scoped>\n",
       "    .dataframe tbody tr th:only-of-type {\n",
       "        vertical-align: middle;\n",
       "    }\n",
       "\n",
       "    .dataframe tbody tr th {\n",
       "        vertical-align: top;\n",
       "    }\n",
       "\n",
       "    .dataframe thead th {\n",
       "        text-align: right;\n",
       "    }\n",
       "</style>\n",
       "<table border=\"1\" class=\"dataframe\">\n",
       "  <thead>\n",
       "    <tr style=\"text-align: right;\">\n",
       "      <th></th>\n",
       "      <th>Accuracy</th>\n",
       "      <th>F1</th>\n",
       "      <th>AUC</th>\n",
       "    </tr>\n",
       "  </thead>\n",
       "  <tbody>\n",
       "    <tr>\n",
       "      <th>Regresja logistyczna</th>\n",
       "      <td>0.954800</td>\n",
       "      <td>0.119403</td>\n",
       "      <td>0.804343</td>\n",
       "    </tr>\n",
       "    <tr>\n",
       "      <th>Drzewo decyzyjne</th>\n",
       "      <td>0.962576</td>\n",
       "      <td>0.084349</td>\n",
       "      <td>0.699655</td>\n",
       "    </tr>\n",
       "    <tr>\n",
       "      <th>Las losowy</th>\n",
       "      <td>0.966483</td>\n",
       "      <td>0.111675</td>\n",
       "      <td>0.818942</td>\n",
       "    </tr>\n",
       "  </tbody>\n",
       "</table>\n",
       "</div>"
      ],
      "text/plain": [
       "                      Accuracy        F1       AUC\n",
       "Regresja logistyczna  0.954800  0.119403  0.804343\n",
       "Drzewo decyzyjne      0.962576  0.084349  0.699655\n",
       "Las losowy            0.966483  0.111675  0.818942"
      ]
     },
     "execution_count": 47,
     "metadata": {},
     "output_type": "execute_result"
    }
   ],
   "source": [
    "Podsumowanie"
   ]
  },
  {
   "cell_type": "markdown",
   "metadata": {},
   "source": [
    "Otrzymane modele mają średnią moc dyskryminacyjną. Najlepsze wydają się modele otrzymane regresją logistyczną i lasem losowym."
   ]
  }
 ],
 "metadata": {
  "kernelspec": {
   "display_name": "Python 3",
   "language": "python",
   "name": "python3"
  },
  "language_info": {
   "codemirror_mode": {
    "name": "ipython",
    "version": 3
   },
   "file_extension": ".py",
   "mimetype": "text/x-python",
   "name": "python",
   "nbconvert_exporter": "python",
   "pygments_lexer": "ipython3",
   "version": "3.8.1"
  }
 },
 "nbformat": 4,
 "nbformat_minor": 4
}
